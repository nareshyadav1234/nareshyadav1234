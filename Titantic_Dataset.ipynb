{
  "nbformat": 4,
  "nbformat_minor": 0,
  "metadata": {
    "colab": {
      "private_outputs": true,
      "provenance": [],
      "authorship_tag": "ABX9TyMAOmUTJT2/EpINmXp/Jcp/",
      "include_colab_link": true
    },
    "kernelspec": {
      "name": "python3",
      "display_name": "Python 3"
    },
    "language_info": {
      "name": "python"
    }
  },
  "cells": [
    {
      "cell_type": "markdown",
      "metadata": {
        "id": "view-in-github",
        "colab_type": "text"
      },
      "source": [
        "<a href=\"https://colab.research.google.com/github/nareshyadav1234/nareshyadav1234/blob/main/Titantic_Dataset.ipynb\" target=\"_parent\"><img src=\"https://colab.research.google.com/assets/colab-badge.svg\" alt=\"Open In Colab\"/></a>"
      ]
    },
    {
      "cell_type": "code",
      "execution_count": null,
      "metadata": {
        "id": "1f-WY3yCyemn"
      },
      "outputs": [],
      "source": [
        "import pandas as pd\n",
        "import numpy as np\n",
        "import matplotlib.pyplot as plt\n",
        "import seaborn as sns\n",
        "\n",
        "df= pd.read_csv(\"https://raw.githubusercontent.com/rolandmueller/titanic/main/titanic3.csv\")"
      ]
    },
    {
      "cell_type": "code",
      "source": [
        "df.head()"
      ],
      "metadata": {
        "id": "WoEDp_nEXprZ"
      },
      "execution_count": null,
      "outputs": []
    },
    {
      "cell_type": "code",
      "source": [
        "df.isnull()"
      ],
      "metadata": {
        "id": "lBBfFtZjX138"
      },
      "execution_count": null,
      "outputs": []
    },
    {
      "cell_type": "code",
      "source": [
        "df.isnull().sum()\n"
      ],
      "metadata": {
        "id": "c-rpaxAdxSxk"
      },
      "execution_count": null,
      "outputs": []
    },
    {
      "cell_type": "markdown",
      "source": [
        "**Null Value Distribution in Dataset**"
      ],
      "metadata": {
        "id": "luUjQdgpDOOb"
      }
    },
    {
      "cell_type": "code",
      "source": [
        "plt.figure(figsize=(12,6))\n",
        "sns.heatmap(df.isnull(), cbar=False, yticklabels=False, cmap='viridis')\n",
        "plt.show()"
      ],
      "metadata": {
        "id": "LHGLhw6deSpm"
      },
      "execution_count": null,
      "outputs": []
    },
    {
      "cell_type": "markdown",
      "source": [
        "**Statistical Summary of Dataset**"
      ],
      "metadata": {
        "id": "8iaTq86YDkJj"
      }
    },
    {
      "cell_type": "code",
      "source": [
        "df.describe()"
      ],
      "metadata": {
        "id": "oZ5qa35xgzqn"
      },
      "execution_count": null,
      "outputs": []
    },
    {
      "cell_type": "markdown",
      "source": [
        "**Passenger Survival Distribution**"
      ],
      "metadata": {
        "id": "rLyDesCvD45z"
      }
    },
    {
      "cell_type": "code",
      "source": [
        "sns.countplot(x='survived',data=df)\n",
        "sns.set_style('whitegrid')"
      ],
      "metadata": {
        "id": "mS50k_vog8so"
      },
      "execution_count": null,
      "outputs": []
    },
    {
      "cell_type": "markdown",
      "source": [
        "**Count of Male and Female Passengers**"
      ],
      "metadata": {
        "id": "D7Vd0BX3EJA2"
      }
    },
    {
      "cell_type": "code",
      "source": [
        "sns.countplot(x='sex',data=df)\n",
        "sns.set_style('whitegrid')"
      ],
      "metadata": {
        "id": "TQaYo0c0h-j5"
      },
      "execution_count": null,
      "outputs": []
    },
    {
      "cell_type": "markdown",
      "source": [
        "**Survival Count by Gender**"
      ],
      "metadata": {
        "id": "0qEM6QNbExkv"
      }
    },
    {
      "cell_type": "code",
      "source": [
        "sns.countplot(x='survived', hue='sex', data=df, palette=['red', 'blue'])"
      ],
      "metadata": {
        "id": "gWurwPB6lLy0"
      },
      "execution_count": null,
      "outputs": []
    },
    {
      "cell_type": "markdown",
      "source": [
        "**Passenger Distribution by Class**"
      ],
      "metadata": {
        "id": "0y_g22M_FDlr"
      }
    },
    {
      "cell_type": "code",
      "source": [
        "sns.countplot(x='pclass', data= df)"
      ],
      "metadata": {
        "id": "Zu8j2Uf0lSDf"
      },
      "execution_count": null,
      "outputs": []
    },
    {
      "cell_type": "markdown",
      "source": [
        "**Survival Count by Passenger Class**"
      ],
      "metadata": {
        "id": "7XyUhS4nFVd7"
      }
    },
    {
      "cell_type": "code",
      "source": [
        "sns.catplot(x='survived',data=df,hue='pclass',kind='count')"
      ],
      "metadata": {
        "id": "w0jANtTGmNGQ"
      },
      "execution_count": null,
      "outputs": []
    },
    {
      "cell_type": "markdown",
      "source": [
        "**Survival Gender by Passenger Class**"
      ],
      "metadata": {
        "id": "bHnY26SuFayZ"
      }
    },
    {
      "cell_type": "code",
      "source": [
        "sns.catplot(x='sex',data=df,hue='pclass',kind='count')"
      ],
      "metadata": {
        "id": "DHq7a9ipnL0O"
      },
      "execution_count": null,
      "outputs": []
    },
    {
      "cell_type": "markdown",
      "source": [
        "**Distribution of Ages**"
      ],
      "metadata": {
        "id": "TSK0j3gJFx2Q"
      }
    },
    {
      "cell_type": "code",
      "source": [
        "df['age'].hist(bins=80)"
      ],
      "metadata": {
        "id": "8rnCHj7ioZW_"
      },
      "execution_count": null,
      "outputs": []
    },
    {
      "cell_type": "markdown",
      "source": [
        "**Impact of Siblings/Spouses on Survival**"
      ],
      "metadata": {
        "id": "ZyVov-T8GG-v"
      }
    },
    {
      "cell_type": "code",
      "source": [
        "sns.catplot(x='survived',data=df,hue='sibsp',kind='count')"
      ],
      "metadata": {
        "id": "aFGSiXampIt3"
      },
      "execution_count": null,
      "outputs": []
    },
    {
      "cell_type": "markdown",
      "source": [
        "**Impact of Sibling/Spouse on Gender**"
      ],
      "metadata": {
        "id": "aOB-n7fAGP-u"
      }
    },
    {
      "cell_type": "code",
      "source": [
        "sns.catplot(x='sex',data=df,hue='sibsp',kind='count')"
      ],
      "metadata": {
        "id": "E_JwE2T1prKG"
      },
      "execution_count": null,
      "outputs": []
    },
    {
      "cell_type": "markdown",
      "source": [
        "**Embarkation port analysis**"
      ],
      "metadata": {
        "id": "-kbmIdkId0KZ"
      }
    },
    {
      "cell_type": "code",
      "source": [
        "sns.catplot(x='embarked',hue='survived',col='sex',kind='count',data=df)\n",
        "plt.title(\"Emabarkation port analysis\")"
      ],
      "metadata": {
        "id": "8V6Bbp_dd6pT"
      },
      "execution_count": null,
      "outputs": []
    },
    {
      "cell_type": "markdown",
      "source": [
        "**Average Age of Passengers**"
      ],
      "metadata": {
        "id": "3cKRY5b9GoBh"
      }
    },
    {
      "cell_type": "code",
      "source": [
        "df['age'].mean()"
      ],
      "metadata": {
        "id": "wwWJUMrZrK4J"
      },
      "execution_count": null,
      "outputs": []
    },
    {
      "cell_type": "code",
      "source": [
        "df"
      ],
      "metadata": {
        "id": "sxrrkRYyuz0M"
      },
      "execution_count": null,
      "outputs": []
    },
    {
      "cell_type": "markdown",
      "source": [
        "**Dropping the 'body' Column from Dataset**"
      ],
      "metadata": {
        "id": "tC_joks3G4AU"
      }
    },
    {
      "cell_type": "code",
      "source": [
        "df.drop(['body'],axis=1,inplace = True)"
      ],
      "metadata": {
        "id": "BhAml5qBvhmH"
      },
      "execution_count": null,
      "outputs": []
    },
    {
      "cell_type": "markdown",
      "source": [
        "**Fare vs Pclass vs Survival**"
      ],
      "metadata": {
        "id": "RGh5kulbbxZw"
      }
    },
    {
      "cell_type": "code",
      "source": [
        "sns.boxplot(x='pclass', y='fare', hue='survived', data=df)\n",
        "plt.title('Fare Distribution by Class and Survival')\n",
        "plt.show()"
      ],
      "metadata": {
        "id": "ZhsSyngSb9iI"
      },
      "execution_count": null,
      "outputs": []
    },
    {
      "cell_type": "markdown",
      "source": [
        "**Survival rates by different categories**"
      ],
      "metadata": {
        "id": "Dh_IFXgzcpP7"
      }
    },
    {
      "cell_type": "code",
      "source": [
        "print(\"Survival rates by Class\")\n",
        "print(df.groupby('pclass')['survived'].mean())\n",
        "print(\"Survival rates by Gender\")\n",
        "print(df.groupby('sex')['survived'].mean())\n",
        "print(\"Survival rates by Age\")\n",
        "print(df.groupby('age')['survived'].mean())"
      ],
      "metadata": {
        "id": "unlw-mhmc5N_"
      },
      "execution_count": null,
      "outputs": []
    },
    {
      "cell_type": "markdown",
      "source": [
        "**Data Types of Each Column**"
      ],
      "metadata": {
        "id": "OCRN2tPDHB1Q"
      }
    },
    {
      "cell_type": "code",
      "source": [
        "df.dtypes"
      ],
      "metadata": {
        "id": "hfoge5Zxv5n5"
      },
      "execution_count": null,
      "outputs": []
    },
    {
      "cell_type": "markdown",
      "source": [
        "**Removing Duplicate Rows from Dataset**"
      ],
      "metadata": {
        "id": "9dCG5DjbHOwf"
      }
    },
    {
      "cell_type": "code",
      "source": [
        "df.drop_duplicates(inplace=True)"
      ],
      "metadata": {
        "id": "c_B9MLwWwY0C"
      },
      "execution_count": null,
      "outputs": []
    },
    {
      "cell_type": "code",
      "source": [
        "df"
      ],
      "metadata": {
        "id": "NUc_y4nYwbt9"
      },
      "execution_count": null,
      "outputs": []
    },
    {
      "cell_type": "markdown",
      "source": [
        "**Resetting DataFrame Index**"
      ],
      "metadata": {
        "id": "EyKChAo1HalR"
      }
    },
    {
      "cell_type": "code",
      "source": [
        "df.reset_index(drop=True, inplace=True)"
      ],
      "metadata": {
        "id": "DCgXAoW8wuP-"
      },
      "execution_count": null,
      "outputs": []
    },
    {
      "cell_type": "code",
      "source": [
        "df"
      ],
      "metadata": {
        "id": "68vUuan2wxvB"
      },
      "execution_count": null,
      "outputs": []
    },
    {
      "cell_type": "code",
      "source": [],
      "metadata": {
        "id": "PITuR1PRw_px"
      },
      "execution_count": null,
      "outputs": []
    },
    {
      "cell_type": "markdown",
      "source": [],
      "metadata": {
        "id": "-JrpW9u1ZgnG"
      }
    }
  ]
}