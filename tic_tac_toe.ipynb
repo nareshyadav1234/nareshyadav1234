{
  "nbformat": 4,
  "nbformat_minor": 0,
  "metadata": {
    "colab": {
      "private_outputs": true,
      "provenance": [],
      "authorship_tag": "ABX9TyMwzGBVMY9F2cY392pKifO8",
      "include_colab_link": true
    },
    "kernelspec": {
      "name": "python3",
      "display_name": "Python 3"
    },
    "language_info": {
      "name": "python"
    }
  },
  "cells": [
    {
      "cell_type": "markdown",
      "metadata": {
        "id": "view-in-github",
        "colab_type": "text"
      },
      "source": [
        "<a href=\"https://colab.research.google.com/github/nareshyadav1234/nareshyadav1234/blob/main/tic_tac_toe.ipynb\" target=\"_parent\"><img src=\"https://colab.research.google.com/assets/colab-badge.svg\" alt=\"Open In Colab\"/></a>"
      ]
    },
    {
      "cell_type": "code",
      "execution_count": null,
      "metadata": {
        "id": "npPjuLmK0lAd"
      },
      "outputs": [],
      "source": [
        "def print_board(board):\n",
        "    print(\"\\n\")\n",
        "    print(\" \" + board[0] + \" | \" + board[1] + \" | \" + board[2])\n",
        "    print(\"---|---|---\")\n",
        "    print(\" \" + board[3] + \" | \" + board[4] + \" | \" + board[5])\n",
        "    print(\"---|---|---\")\n",
        "    print(\" \" + board[6] + \" | \" + board[7] + \" | \" + board[8])\n",
        "    print(\"\\n\")\n",
        "\n",
        "def check_win(board, player):\n",
        "    win_conditions = [\n",
        "        [0, 1, 2], [3, 4, 5], [6, 7, 8],  # rows\n",
        "        [0, 3, 6], [1, 4, 7], [2, 5, 8],  # columns\n",
        "        [0, 4, 8], [2, 4, 6]              # diagonals\n",
        "    ]\n",
        "    for condition in win_conditions:\n",
        "        if all(board[i] == player for i in condition):\n",
        "            return True\n",
        "    return False\n",
        "\n",
        "def check_draw(board):\n",
        "    return all(cell != \" \" for cell in board)\n",
        "\n",
        "def play_game():\n",
        "    board = [\" \" for _ in range(9)]\n",
        "    current_player = \"X\"\n",
        "    print(\"🎮 Welcome to Tic Tac Toe!\")\n",
        "    print_board([str(i+1) for i in range(9)])\n",
        "\n",
        "    while True:\n",
        "        print_board(board)\n",
        "        try:\n",
        "            move = int(input(f\"Player {current_player}, enter your move (1-9): \")) - 1\n",
        "            if board[move] == \" \":\n",
        "                board[move] = current_player\n",
        "                if check_win(board, current_player):\n",
        "                    print_board(board)\n",
        "                    print(f\"🏆 Player {current_player} wins!\")\n",
        "                    break\n",
        "                elif check_draw(board):\n",
        "                    print_board(board)\n",
        "                    print(\"🤝 It's a draw!\")\n",
        "                    break\n",
        "                current_player = \"O\" if current_player == \"X\" else \"X\"\n",
        "            else:\n",
        "                print(\"❗ That cell is already taken. Try again.\")\n",
        "        except (ValueError, IndexError):\n",
        "            print(\"❌ Invalid input. Please enter a number between 1 and 9.\")\n",
        "\n",
        "def main():\n",
        "    while True:\n",
        "        play_game()\n",
        "        again = input(\"Play again? (y/n): \").lower()\n",
        "        if again != 'y':\n",
        "            print(\"👋 Thanks for playing!\")\n",
        "            break\n",
        "\n",
        "if __name__ == \"__main__\":\n",
        "    main()\n",
        ""
      ]
    }
  ]
}